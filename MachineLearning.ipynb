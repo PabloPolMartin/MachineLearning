{
  "nbformat": 4,
  "nbformat_minor": 0,
  "metadata": {
    "colab": {
      "provenance": [],
      "authorship_tag": "ABX9TyOQKGdoMUCLHMDVHe+SERxQ",
      "include_colab_link": true
    },
    "kernelspec": {
      "name": "python3",
      "display_name": "Python 3"
    },
    "language_info": {
      "name": "python"
    }
  },
  "cells": [
    {
      "cell_type": "markdown",
      "metadata": {
        "id": "view-in-github",
        "colab_type": "text"
      },
      "source": [
        "<a href=\"https://colab.research.google.com/github/PabloPolMartin/MachineLearning/blob/main/MachineLearning.ipynb\" target=\"_parent\"><img src=\"https://colab.research.google.com/assets/colab-badge.svg\" alt=\"Open In Colab\"/></a>"
      ]
    },
    {
      "cell_type": "markdown",
      "source": [
        "El submition debe contener:\n",
        "Explicación de la intuición detrás del algoritmo de KNN.\n",
        "Pseudocódigo del algoritmo\n",
        "Implementación del algoritmo (propia) en Python (Jupyter Notebooks preferably).\n",
        "Loss function + Optimization function identification.\n",
        "\n",
        "\n"
      ],
      "metadata": {
        "id": "Fgg4DwSCcr1s"
      }
    },
    {
      "cell_type": "markdown",
      "source": [
        "The k-Nearest Neighbors (KNN) algorithm is a simple and intuitive machine learning algorithm used for both classification and regression tasks.\n",
        "In summary, KNN is an intuitive algorithm that relies on the idea that similar data points tend to have similar labels or values. It's easy to understand and implement, making it a good choice for simple classification and regression tasks, especially when you have a small to moderately sized dataset. However, it may not perform as well as more sophisticated algorithms on complex datasets or in situations where feature scaling and the choice of k are critical."
      ],
      "metadata": {
        "id": "3xAKuH1K3kUh"
      }
    },
    {
      "cell_type": "markdown",
      "source": [
        "**PSEUDO** **CODE**"
      ],
      "metadata": {
        "id": "x3tKXtJHc0fs"
      }
    },
    {
      "cell_type": "markdown",
      "source": [
        "#Pseudocode for KNN\n",
        "\n",
        "Import libraries: numpy, pandas\n",
        "Load the dataset and print dataset\n",
        "\n",
        "Defined the features (X) and tags (y)\n",
        "Select specific columns from the DataFrame 'df' and store them in X\n",
        "Select the 'Outcome' column and store it in y\n",
        "Create a variable X to store the features\n",
        "Create a variable y to store the tags\n",
        "\n",
        "Set X to the values of the following columns in df: 'Pregnancies', 'Glucose', 'SkinThickness', 'Insulin', 'BMI', 'Pedigree', 'Age'\n",
        "Set y to the values of the 'Outcome' column in df\n",
        "\n",
        "Define the size of the test set according to our needs\n",
        "Set the desired test set size to 20% (test_size)\n",
        "Set test_size to 0.2\n",
        "Determine the total number of samples in the dataset\n",
        "Get the length of the DataFrame df and store it in num_samples\n",
        "\n",
        "Calculate the number of samples to be allocated for the test set\n",
        "Multiply test_size by num_samples, convert the result to an integer, and store it in num_test_samples\n",
        "\n",
        "Sort from smallest to largest\n",
        "Set the seed for reproducibility\n",
        "Create training and test sets\n",
        "Print the number of samples in each set\n",
        "\n",
        "#KNNClassifier\n",
        "class KNNClassifier:\n",
        "    # Constructor\n",
        "    def __init__(self, k=3):\n",
        "    # Method for training the model\n",
        "    def fit(self, X_train, y_train):\n",
        "    # Method for making predictions\n",
        "    def predict(self, X):\n",
        "        Create an empty list y_pred\n",
        "        For each sample x in X:\n",
        "            Call the _predict method with x as an argument and append the result to y_pred\n",
        "        Convert y_pred to a numpy array and return it\n",
        "    # Helper method for predicting a single sample\n",
        "    def _predict(self, x):\n",
        "        Create an empty list distances\n",
        "        For each training sample x_train in self.X_train:\n",
        "            Calculate the Euclidean distance between x and x_train and append it to distances\n",
        "\n",
        "        Sort distances and get the indices of the first k neighbors (k_indices)\n",
        "\n",
        "        Create an empty list k_nearest_labels\n",
        "        For each index i in k_indices:\n",
        "            Append self.y_train[i] to k_nearest_labels\n",
        "\n",
        "        Find the most common class label among the k nearest neighbors (most_common)\n",
        "\n",
        "        Return most_common as the predicted class label\n",
        "Take the k nearest neighbors\n",
        "Count the frequency of each label among the k neighbors\n",
        "Determine the most common label among the k neighbors (voting)\n",
        "Train the KNN classifier with the data and classes\n",
        "Classify the new data using the KNN classifier\n",
        "\n",
        "Classification Results\n",
        "Print \"Results\" for each unique class cls in y_test:\n",
        "\n",
        "   -Calculate the number of samples correctly classified as cls (correct_count):\n",
        "        - Sum the elements where y_test is equal to cls and y_pred is also equal to cls\n",
        "\n",
        "  -Calculate the number of samples incorrectly classified as cls (incorrect_count):\n",
        "        - Sum the elements where y_test is equal to cls but y_pred is not equal to cls\n",
        "\n",
        "  -Print the class label cls, the count of samples correctly classified, and the count of samples incorrectly classified:\n",
        "        - \"Class cls: correct_count properly classified, incorrect_count incorrect classification\"\n",
        "#Print the predicted classes for the new data."
      ],
      "metadata": {
        "id": "acMEoXAKCAdi"
      }
    },
    {
      "cell_type": "markdown",
      "source": [
        "**CODE** **PYTHON**"
      ],
      "metadata": {
        "id": "kyJzWjwXcxVL"
      }
    },
    {
      "cell_type": "code",
      "source": [
        "import numpy as np\n",
        "import pandas as pd"
      ],
      "metadata": {
        "id": "jKSSxhr4YpMw"
      },
      "execution_count": null,
      "outputs": []
    },
    {
      "cell_type": "code",
      "source": [
        "# Load the dataset\n",
        "df = pd.read_csv(\"diabetes.csv\", sep=\",\")"
      ],
      "metadata": {
        "id": "NAnzYh9lYtD-"
      },
      "execution_count": null,
      "outputs": []
    },
    {
      "cell_type": "code",
      "source": [
        "#Print dataset\n",
        "df"
      ],
      "metadata": {
        "colab": {
          "base_uri": "https://localhost:8080/",
          "height": 423
        },
        "id": "mqrS_LifY66r",
        "outputId": "a6289593-56af-4554-811b-3a3906c2a5dd"
      },
      "execution_count": null,
      "outputs": [
        {
          "output_type": "execute_result",
          "data": {
            "text/plain": [
              "     Pregnancies  Glucose  BloodPressure  SkinThickness  Insulin   BMI  \\\n",
              "0              6      148             72             35        0  33.6   \n",
              "1              1       85             66             29        0  26.6   \n",
              "2              8      183             64              0        0  23.3   \n",
              "3              1       89             66             23       94  28.1   \n",
              "4              0      137             40             35      168  43.1   \n",
              "..           ...      ...            ...            ...      ...   ...   \n",
              "763           10      101             76             48      180  32.9   \n",
              "764            2      122             70             27        0  36.8   \n",
              "765            5      121             72             23      112  26.2   \n",
              "766            1      126             60              0        0  30.1   \n",
              "767            1       93             70             31        0  30.4   \n",
              "\n",
              "     Pedigree  Age  Outcome  \n",
              "0       0.627   50        1  \n",
              "1       0.351   31        0  \n",
              "2       0.672   32        1  \n",
              "3       0.167   21        0  \n",
              "4       2.288   33        1  \n",
              "..        ...  ...      ...  \n",
              "763     0.171   63        0  \n",
              "764     0.340   27        0  \n",
              "765     0.245   30        0  \n",
              "766     0.349   47        1  \n",
              "767     0.315   23        0  \n",
              "\n",
              "[768 rows x 9 columns]"
            ],
            "text/html": [
              "\n",
              "  <div id=\"df-195b59e0-7f1c-477a-84c9-e8fbe1abd395\" class=\"colab-df-container\">\n",
              "    <div>\n",
              "<style scoped>\n",
              "    .dataframe tbody tr th:only-of-type {\n",
              "        vertical-align: middle;\n",
              "    }\n",
              "\n",
              "    .dataframe tbody tr th {\n",
              "        vertical-align: top;\n",
              "    }\n",
              "\n",
              "    .dataframe thead th {\n",
              "        text-align: right;\n",
              "    }\n",
              "</style>\n",
              "<table border=\"1\" class=\"dataframe\">\n",
              "  <thead>\n",
              "    <tr style=\"text-align: right;\">\n",
              "      <th></th>\n",
              "      <th>Pregnancies</th>\n",
              "      <th>Glucose</th>\n",
              "      <th>BloodPressure</th>\n",
              "      <th>SkinThickness</th>\n",
              "      <th>Insulin</th>\n",
              "      <th>BMI</th>\n",
              "      <th>Pedigree</th>\n",
              "      <th>Age</th>\n",
              "      <th>Outcome</th>\n",
              "    </tr>\n",
              "  </thead>\n",
              "  <tbody>\n",
              "    <tr>\n",
              "      <th>0</th>\n",
              "      <td>6</td>\n",
              "      <td>148</td>\n",
              "      <td>72</td>\n",
              "      <td>35</td>\n",
              "      <td>0</td>\n",
              "      <td>33.6</td>\n",
              "      <td>0.627</td>\n",
              "      <td>50</td>\n",
              "      <td>1</td>\n",
              "    </tr>\n",
              "    <tr>\n",
              "      <th>1</th>\n",
              "      <td>1</td>\n",
              "      <td>85</td>\n",
              "      <td>66</td>\n",
              "      <td>29</td>\n",
              "      <td>0</td>\n",
              "      <td>26.6</td>\n",
              "      <td>0.351</td>\n",
              "      <td>31</td>\n",
              "      <td>0</td>\n",
              "    </tr>\n",
              "    <tr>\n",
              "      <th>2</th>\n",
              "      <td>8</td>\n",
              "      <td>183</td>\n",
              "      <td>64</td>\n",
              "      <td>0</td>\n",
              "      <td>0</td>\n",
              "      <td>23.3</td>\n",
              "      <td>0.672</td>\n",
              "      <td>32</td>\n",
              "      <td>1</td>\n",
              "    </tr>\n",
              "    <tr>\n",
              "      <th>3</th>\n",
              "      <td>1</td>\n",
              "      <td>89</td>\n",
              "      <td>66</td>\n",
              "      <td>23</td>\n",
              "      <td>94</td>\n",
              "      <td>28.1</td>\n",
              "      <td>0.167</td>\n",
              "      <td>21</td>\n",
              "      <td>0</td>\n",
              "    </tr>\n",
              "    <tr>\n",
              "      <th>4</th>\n",
              "      <td>0</td>\n",
              "      <td>137</td>\n",
              "      <td>40</td>\n",
              "      <td>35</td>\n",
              "      <td>168</td>\n",
              "      <td>43.1</td>\n",
              "      <td>2.288</td>\n",
              "      <td>33</td>\n",
              "      <td>1</td>\n",
              "    </tr>\n",
              "    <tr>\n",
              "      <th>...</th>\n",
              "      <td>...</td>\n",
              "      <td>...</td>\n",
              "      <td>...</td>\n",
              "      <td>...</td>\n",
              "      <td>...</td>\n",
              "      <td>...</td>\n",
              "      <td>...</td>\n",
              "      <td>...</td>\n",
              "      <td>...</td>\n",
              "    </tr>\n",
              "    <tr>\n",
              "      <th>763</th>\n",
              "      <td>10</td>\n",
              "      <td>101</td>\n",
              "      <td>76</td>\n",
              "      <td>48</td>\n",
              "      <td>180</td>\n",
              "      <td>32.9</td>\n",
              "      <td>0.171</td>\n",
              "      <td>63</td>\n",
              "      <td>0</td>\n",
              "    </tr>\n",
              "    <tr>\n",
              "      <th>764</th>\n",
              "      <td>2</td>\n",
              "      <td>122</td>\n",
              "      <td>70</td>\n",
              "      <td>27</td>\n",
              "      <td>0</td>\n",
              "      <td>36.8</td>\n",
              "      <td>0.340</td>\n",
              "      <td>27</td>\n",
              "      <td>0</td>\n",
              "    </tr>\n",
              "    <tr>\n",
              "      <th>765</th>\n",
              "      <td>5</td>\n",
              "      <td>121</td>\n",
              "      <td>72</td>\n",
              "      <td>23</td>\n",
              "      <td>112</td>\n",
              "      <td>26.2</td>\n",
              "      <td>0.245</td>\n",
              "      <td>30</td>\n",
              "      <td>0</td>\n",
              "    </tr>\n",
              "    <tr>\n",
              "      <th>766</th>\n",
              "      <td>1</td>\n",
              "      <td>126</td>\n",
              "      <td>60</td>\n",
              "      <td>0</td>\n",
              "      <td>0</td>\n",
              "      <td>30.1</td>\n",
              "      <td>0.349</td>\n",
              "      <td>47</td>\n",
              "      <td>1</td>\n",
              "    </tr>\n",
              "    <tr>\n",
              "      <th>767</th>\n",
              "      <td>1</td>\n",
              "      <td>93</td>\n",
              "      <td>70</td>\n",
              "      <td>31</td>\n",
              "      <td>0</td>\n",
              "      <td>30.4</td>\n",
              "      <td>0.315</td>\n",
              "      <td>23</td>\n",
              "      <td>0</td>\n",
              "    </tr>\n",
              "  </tbody>\n",
              "</table>\n",
              "<p>768 rows × 9 columns</p>\n",
              "</div>\n",
              "    <div class=\"colab-df-buttons\">\n",
              "\n",
              "  <div class=\"colab-df-container\">\n",
              "    <button class=\"colab-df-convert\" onclick=\"convertToInteractive('df-195b59e0-7f1c-477a-84c9-e8fbe1abd395')\"\n",
              "            title=\"Convert this dataframe to an interactive table.\"\n",
              "            style=\"display:none;\">\n",
              "\n",
              "  <svg xmlns=\"http://www.w3.org/2000/svg\" height=\"24px\" viewBox=\"0 -960 960 960\">\n",
              "    <path d=\"M120-120v-720h720v720H120Zm60-500h600v-160H180v160Zm220 220h160v-160H400v160Zm0 220h160v-160H400v160ZM180-400h160v-160H180v160Zm440 0h160v-160H620v160ZM180-180h160v-160H180v160Zm440 0h160v-160H620v160Z\"/>\n",
              "  </svg>\n",
              "    </button>\n",
              "\n",
              "  <style>\n",
              "    .colab-df-container {\n",
              "      display:flex;\n",
              "      gap: 12px;\n",
              "    }\n",
              "\n",
              "    .colab-df-convert {\n",
              "      background-color: #E8F0FE;\n",
              "      border: none;\n",
              "      border-radius: 50%;\n",
              "      cursor: pointer;\n",
              "      display: none;\n",
              "      fill: #1967D2;\n",
              "      height: 32px;\n",
              "      padding: 0 0 0 0;\n",
              "      width: 32px;\n",
              "    }\n",
              "\n",
              "    .colab-df-convert:hover {\n",
              "      background-color: #E2EBFA;\n",
              "      box-shadow: 0px 1px 2px rgba(60, 64, 67, 0.3), 0px 1px 3px 1px rgba(60, 64, 67, 0.15);\n",
              "      fill: #174EA6;\n",
              "    }\n",
              "\n",
              "    .colab-df-buttons div {\n",
              "      margin-bottom: 4px;\n",
              "    }\n",
              "\n",
              "    [theme=dark] .colab-df-convert {\n",
              "      background-color: #3B4455;\n",
              "      fill: #D2E3FC;\n",
              "    }\n",
              "\n",
              "    [theme=dark] .colab-df-convert:hover {\n",
              "      background-color: #434B5C;\n",
              "      box-shadow: 0px 1px 3px 1px rgba(0, 0, 0, 0.15);\n",
              "      filter: drop-shadow(0px 1px 2px rgba(0, 0, 0, 0.3));\n",
              "      fill: #FFFFFF;\n",
              "    }\n",
              "  </style>\n",
              "\n",
              "    <script>\n",
              "      const buttonEl =\n",
              "        document.querySelector('#df-195b59e0-7f1c-477a-84c9-e8fbe1abd395 button.colab-df-convert');\n",
              "      buttonEl.style.display =\n",
              "        google.colab.kernel.accessAllowed ? 'block' : 'none';\n",
              "\n",
              "      async function convertToInteractive(key) {\n",
              "        const element = document.querySelector('#df-195b59e0-7f1c-477a-84c9-e8fbe1abd395');\n",
              "        const dataTable =\n",
              "          await google.colab.kernel.invokeFunction('convertToInteractive',\n",
              "                                                    [key], {});\n",
              "        if (!dataTable) return;\n",
              "\n",
              "        const docLinkHtml = 'Like what you see? Visit the ' +\n",
              "          '<a target=\"_blank\" href=https://colab.research.google.com/notebooks/data_table.ipynb>data table notebook</a>'\n",
              "          + ' to learn more about interactive tables.';\n",
              "        element.innerHTML = '';\n",
              "        dataTable['output_type'] = 'display_data';\n",
              "        await google.colab.output.renderOutput(dataTable, element);\n",
              "        const docLink = document.createElement('div');\n",
              "        docLink.innerHTML = docLinkHtml;\n",
              "        element.appendChild(docLink);\n",
              "      }\n",
              "    </script>\n",
              "  </div>\n",
              "\n",
              "\n",
              "<div id=\"df-820773cb-7395-45f9-85db-4439e659f3f9\">\n",
              "  <button class=\"colab-df-quickchart\" onclick=\"quickchart('df-820773cb-7395-45f9-85db-4439e659f3f9')\"\n",
              "            title=\"Suggest charts.\"\n",
              "            style=\"display:none;\">\n",
              "\n",
              "<svg xmlns=\"http://www.w3.org/2000/svg\" height=\"24px\"viewBox=\"0 0 24 24\"\n",
              "     width=\"24px\">\n",
              "    <g>\n",
              "        <path d=\"M19 3H5c-1.1 0-2 .9-2 2v14c0 1.1.9 2 2 2h14c1.1 0 2-.9 2-2V5c0-1.1-.9-2-2-2zM9 17H7v-7h2v7zm4 0h-2V7h2v10zm4 0h-2v-4h2v4z\"/>\n",
              "    </g>\n",
              "</svg>\n",
              "  </button>\n",
              "\n",
              "<style>\n",
              "  .colab-df-quickchart {\n",
              "      --bg-color: #E8F0FE;\n",
              "      --fill-color: #1967D2;\n",
              "      --hover-bg-color: #E2EBFA;\n",
              "      --hover-fill-color: #174EA6;\n",
              "      --disabled-fill-color: #AAA;\n",
              "      --disabled-bg-color: #DDD;\n",
              "  }\n",
              "\n",
              "  [theme=dark] .colab-df-quickchart {\n",
              "      --bg-color: #3B4455;\n",
              "      --fill-color: #D2E3FC;\n",
              "      --hover-bg-color: #434B5C;\n",
              "      --hover-fill-color: #FFFFFF;\n",
              "      --disabled-bg-color: #3B4455;\n",
              "      --disabled-fill-color: #666;\n",
              "  }\n",
              "\n",
              "  .colab-df-quickchart {\n",
              "    background-color: var(--bg-color);\n",
              "    border: none;\n",
              "    border-radius: 50%;\n",
              "    cursor: pointer;\n",
              "    display: none;\n",
              "    fill: var(--fill-color);\n",
              "    height: 32px;\n",
              "    padding: 0;\n",
              "    width: 32px;\n",
              "  }\n",
              "\n",
              "  .colab-df-quickchart:hover {\n",
              "    background-color: var(--hover-bg-color);\n",
              "    box-shadow: 0 1px 2px rgba(60, 64, 67, 0.3), 0 1px 3px 1px rgba(60, 64, 67, 0.15);\n",
              "    fill: var(--button-hover-fill-color);\n",
              "  }\n",
              "\n",
              "  .colab-df-quickchart-complete:disabled,\n",
              "  .colab-df-quickchart-complete:disabled:hover {\n",
              "    background-color: var(--disabled-bg-color);\n",
              "    fill: var(--disabled-fill-color);\n",
              "    box-shadow: none;\n",
              "  }\n",
              "\n",
              "  .colab-df-spinner {\n",
              "    border: 2px solid var(--fill-color);\n",
              "    border-color: transparent;\n",
              "    border-bottom-color: var(--fill-color);\n",
              "    animation:\n",
              "      spin 1s steps(1) infinite;\n",
              "  }\n",
              "\n",
              "  @keyframes spin {\n",
              "    0% {\n",
              "      border-color: transparent;\n",
              "      border-bottom-color: var(--fill-color);\n",
              "      border-left-color: var(--fill-color);\n",
              "    }\n",
              "    20% {\n",
              "      border-color: transparent;\n",
              "      border-left-color: var(--fill-color);\n",
              "      border-top-color: var(--fill-color);\n",
              "    }\n",
              "    30% {\n",
              "      border-color: transparent;\n",
              "      border-left-color: var(--fill-color);\n",
              "      border-top-color: var(--fill-color);\n",
              "      border-right-color: var(--fill-color);\n",
              "    }\n",
              "    40% {\n",
              "      border-color: transparent;\n",
              "      border-right-color: var(--fill-color);\n",
              "      border-top-color: var(--fill-color);\n",
              "    }\n",
              "    60% {\n",
              "      border-color: transparent;\n",
              "      border-right-color: var(--fill-color);\n",
              "    }\n",
              "    80% {\n",
              "      border-color: transparent;\n",
              "      border-right-color: var(--fill-color);\n",
              "      border-bottom-color: var(--fill-color);\n",
              "    }\n",
              "    90% {\n",
              "      border-color: transparent;\n",
              "      border-bottom-color: var(--fill-color);\n",
              "    }\n",
              "  }\n",
              "</style>\n",
              "\n",
              "  <script>\n",
              "    async function quickchart(key) {\n",
              "      const quickchartButtonEl =\n",
              "        document.querySelector('#' + key + ' button');\n",
              "      quickchartButtonEl.disabled = true;  // To prevent multiple clicks.\n",
              "      quickchartButtonEl.classList.add('colab-df-spinner');\n",
              "      try {\n",
              "        const charts = await google.colab.kernel.invokeFunction(\n",
              "            'suggestCharts', [key], {});\n",
              "      } catch (error) {\n",
              "        console.error('Error during call to suggestCharts:', error);\n",
              "      }\n",
              "      quickchartButtonEl.classList.remove('colab-df-spinner');\n",
              "      quickchartButtonEl.classList.add('colab-df-quickchart-complete');\n",
              "    }\n",
              "    (() => {\n",
              "      let quickchartButtonEl =\n",
              "        document.querySelector('#df-820773cb-7395-45f9-85db-4439e659f3f9 button');\n",
              "      quickchartButtonEl.style.display =\n",
              "        google.colab.kernel.accessAllowed ? 'block' : 'none';\n",
              "    })();\n",
              "  </script>\n",
              "</div>\n",
              "    </div>\n",
              "  </div>\n"
            ]
          },
          "metadata": {},
          "execution_count": 7
        }
      ]
    },
    {
      "cell_type": "code",
      "source": [
        "# Features (X) and tags (y)\n",
        "X = df[['Pregnancies', 'Glucose', 'SkinThickness', 'Insulin', 'BMI', 'Pedigree', 'Age' ]].values\n",
        "y = df['Outcome'].values"
      ],
      "metadata": {
        "id": "0y_d92CYbYkX"
      },
      "execution_count": null,
      "outputs": []
    },
    {
      "cell_type": "code",
      "source": [
        "# Define the size of the test set\n",
        "test_size = 0.2\n",
        "num_samples = len(df)\n",
        "num_test_samples = int(test_size * num_samples)"
      ],
      "metadata": {
        "id": "FhLIuelHaVXZ"
      },
      "execution_count": null,
      "outputs": []
    },
    {
      "cell_type": "code",
      "source": [
        "# Set the seed for reproducibility\n",
        "np.random.seed(42)"
      ],
      "metadata": {
        "id": "GIsKvlcSaVkv"
      },
      "execution_count": null,
      "outputs": []
    },
    {
      "cell_type": "code",
      "source": [
        "# Get random indexes\n",
        "test_indices = np.random.choice(num_samples, num_test_samples, replace=False)"
      ],
      "metadata": {
        "id": "eeTRGJ56aZSg"
      },
      "execution_count": null,
      "outputs": []
    },
    {
      "cell_type": "code",
      "source": [
        "# Create training and test sets\n",
        "X_train = np.delete(X, test_indices, axis=0)\n",
        "y_train = np.delete(y, test_indices)\n",
        "X_test = X[test_indices]\n",
        "y_test = y[test_indices]"
      ],
      "metadata": {
        "id": "DayESom1arOb"
      },
      "execution_count": null,
      "outputs": []
    },
    {
      "cell_type": "code",
      "source": [
        "# Print the number of samples in each set\n",
        "print(\"Samples in the training set:\", len(X_train))\n",
        "print(\"Samples in the test set:\", len(X_test))"
      ],
      "metadata": {
        "colab": {
          "base_uri": "https://localhost:8080/"
        },
        "id": "7yVV-4rOW-05",
        "outputId": "4b3133b1-8c85-4cae-ffad-aa47603ed5b2"
      },
      "execution_count": null,
      "outputs": [
        {
          "output_type": "stream",
          "name": "stdout",
          "text": [
            "Samples in the training set: 615\n",
            "Samples in the test set: 153\n"
          ]
        }
      ]
    },
    {
      "cell_type": "code",
      "source": [
        "#KNN\n",
        "class KNNClassifier:\n",
        "    def __init__(self, k=3):\n",
        "        self.k = k\n",
        "    def fit(self, X_train, y_train):\n",
        "        self.X_train = X\n",
        "        self.y_train = y\n",
        "    def predict(self, X):\n",
        "        y_pred = [self._predict(x) for x in X]\n",
        "        return np.array(y_pred)\n",
        "\n",
        "    def _predict(self, x):\n",
        "        # Compute distances between x and all examples in the training set\n",
        "        distances = [np.sqrt(np.sum((x - x_train) ** 2)) for x_train in self.X_train]\n",
        "        # Sort by distance and return indices of the first k neighbors\n",
        "        k_indices = np.argsort(distances)[:self.k]\n",
        "        # Extract the labels of the k nearest neighbor training samples\n",
        "        k_nearest_labels = [self.y_train[i] for i in k_indices]\n",
        "        # Return the most common class label among the k nearest neighbors\n",
        "        most_common = np.bincount(k_nearest_labels).argmax()\n",
        "        return most_common\n"
      ],
      "metadata": {
        "id": "kTboqFhweLfS"
      },
      "execution_count": null,
      "outputs": []
    },
    {
      "cell_type": "code",
      "source": [
        "#Training\n",
        "knn = KNNClassifier(k=5)\n",
        "knn.fit(X_train, y_train)"
      ],
      "metadata": {
        "id": "lujbbH7VeLvw"
      },
      "execution_count": null,
      "outputs": []
    },
    {
      "cell_type": "code",
      "source": [
        "#Prediction\n",
        "y_pred = knn.predict (X_test)\n",
        "y_pred"
      ],
      "metadata": {
        "id": "PTXEQiASeLoT",
        "colab": {
          "base_uri": "https://localhost:8080/"
        },
        "outputId": "45a0721b-3170-49b2-a8a1-b6c154aee389"
      },
      "execution_count": null,
      "outputs": [
        {
          "output_type": "execute_result",
          "data": {
            "text/plain": [
              "array([0, 0, 0, 0, 0, 0, 0, 0, 0, 1, 1, 1, 0, 0, 0, 0, 0, 0, 1, 1, 0, 0,\n",
              "       0, 0, 1, 1, 0, 0, 0, 0, 1, 1, 1, 1, 0, 1, 1, 1, 0, 1, 0, 0, 1, 1,\n",
              "       0, 1, 0, 0, 0, 1, 0, 1, 1, 1, 0, 0, 0, 0, 0, 1, 1, 0, 0, 0, 0, 1,\n",
              "       0, 1, 0, 1, 1, 0, 0, 0, 0, 1, 0, 0, 0, 0, 1, 0, 0, 0, 0, 1, 1, 0,\n",
              "       0, 0, 0, 0, 0, 0, 1, 1, 1, 0, 1, 0, 0, 0, 1, 0, 1, 0, 0, 1, 0, 1,\n",
              "       0, 1, 0, 1, 0, 0, 1, 0, 0, 0, 0, 0, 1, 0, 0, 0, 0, 1, 1, 1, 1, 0,\n",
              "       0, 0, 1, 1, 0, 1, 1, 0, 0, 0, 1, 1, 0, 0, 0, 0, 1, 1, 0, 0, 1])"
            ]
          },
          "metadata": {},
          "execution_count": 13
        }
      ]
    },
    {
      "cell_type": "code",
      "source": [
        "#Classification results\n",
        "print(\"Results\")\n",
        "for cls in np.unique(y_test):\n",
        "  correct_count = np.sum((y_test == cls) & (y_pred == cls))\n",
        "  incorrect_count = np.sum((y_test == cls) & (y_pred != cls))\n",
        "  print(f\"Clase {cls}: {correct_count} properly classified, {incorrect_count} incorrect classification\")"
      ],
      "metadata": {
        "id": "rD4-J7TPhx_W",
        "colab": {
          "base_uri": "https://localhost:8080/"
        },
        "outputId": "aa75b20f-06d4-425c-9125-d6a94d3a2ad9"
      },
      "execution_count": null,
      "outputs": [
        {
          "output_type": "stream",
          "name": "stdout",
          "text": [
            "Results\n",
            "Clase 0: 81 properly classified, 17 incorrect classification\n",
            "Clase 1: 40 properly classified, 15 incorrect classification\n"
          ]
        }
      ]
    },
    {
      "cell_type": "code",
      "source": [
        "#Precision\n",
        "accuracy = np.mean(y_pred == y_test)\n",
        "accuracy"
      ],
      "metadata": {
        "id": "BXW-fopZeL1U",
        "colab": {
          "base_uri": "https://localhost:8080/"
        },
        "outputId": "751a02c8-c47c-4d69-9f45-5973ed96e109"
      },
      "execution_count": null,
      "outputs": [
        {
          "output_type": "execute_result",
          "data": {
            "text/plain": [
              "0.7908496732026143"
            ]
          },
          "metadata": {},
          "execution_count": 17
        }
      ]
    },
    {
      "cell_type": "code",
      "source": [
        "!jupyter nbconvert --to html MachineLearning.ipynb"
      ],
      "metadata": {
        "colab": {
          "base_uri": "https://localhost:8080/"
        },
        "id": "5bAMl3TTDiNJ",
        "outputId": "b6206738-bea4-4bba-d8dd-235ce04c96fb"
      },
      "execution_count": null,
      "outputs": [
        {
          "output_type": "stream",
          "name": "stdout",
          "text": [
            "[NbConvertApp] Converting notebook MachineLearning.ipynb to html\n",
            "[NbConvertApp] Writing 611949 bytes to MachineLearning.html\n"
          ]
        }
      ]
    }
  ]
}